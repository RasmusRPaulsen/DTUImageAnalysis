{
 "cells": [
  {
   "cell_type": "markdown",
   "id": "e8bd5043",
   "metadata": {},
   "source": [
    "# Exercise 2b - Change detection in videos\n",
    "\n",
    "The goal of this exercise is to create a small program for real-time change detection using OpenCV."
   ]
  },
  {
   "cell_type": "markdown",
   "id": "8e0e059a",
   "metadata": {},
   "source": [
    "### Exercise 1\n",
    "\n",
    "Run the program from the [exercise material](https://github.com/RasmusRPaulsen/DTUImageAnalysis/blob/main/exercises/ex2b-ChangeDetectionInVideos/data/) and see if shows the expected results? Try to move your hands in front of the camera and try to move the camera and see the effects on the difference image."
   ]
  },
  {
   "cell_type": "code",
   "execution_count": 8,
   "id": "2143b71d",
   "metadata": {},
   "outputs": [
    {
     "name": "stdout",
     "output_type": "stream",
     "text": [
      "4.10.0\n",
      "^C\n"
     ]
    },
    {
     "name": "stdout",
     "output_type": "stream",
     "text": [
      "Starting image capture\n",
      "Opening connection to camera\n",
      "Starting camera loop\n",
      "Stopping image loop\n"
     ]
    }
   ],
   "source": [
    "import cv2\n",
    "print(cv2.__version__)\n",
    "# se cierra dandole a la q \n",
    "!python \"D:\\First semester\\Imagenes\\PRACTICAS\\ImageAnalysis\\exercises\\ex2b-ChangeDetectionInVideos\\data\\Ex2b-ChangeDetectionInVideosExercise.py\""
   ]
  },
  {
   "cell_type": "markdown",
   "id": "51bdf083",
   "metadata": {},
   "source": [
    "### Exercise 2\n",
    "\n",
    "Identify the important steps above in the program. What function is used to convert a color image to a gray-scale image?"
   ]
  },
  {
   "cell_type": "markdown",
   "id": "5d49b1e4",
   "metadata": {},
   "source": [
    "```cv2.cvtColor(frame, cv2.COLOR_BGR2GRAY)``` (Lines 38 and 51)"
   ]
  },
  {
   "cell_type": "markdown",
   "id": "c4dc9670",
   "metadata": {},
   "source": [
    "# Change detection by background subtraction\n",
    "\n",
    "The goal of this exercise, is to modify the program in the [exercise material](https://github.com/RasmusRPaulsen/DTUImageAnalysis/blob/main/exercises/ex2b-ChangeDetectionInVideos/data/), so it will be able to raise an alarm if significant changes are detected in a video stream.\n",
    "\n",
    "The overall structure of the program should be:\n",
    "\n",
    "\n",
    "\n",
    "- Connect to camera\n",
    "- Acquire a background image, convert it to grayscale and then to floating point\n",
    "- Start a loop:\n",
    "\t1. Acquire a new image, convert it to grayscale and then to floating point: $I_\\text{new}$ .\n",
    "    2. Computes an absolute difference image between the new image and the background image.\n",
    "    3. Creates a binary image by applying a threshold, T, to the difference image.\n",
    "    4. Computes the total number of foreground, F, pixels in the foreground image.\n",
    "\t5. Compute the percentage of foreground pixels compared to the total number of pixels in the image (F).\n",
    "    5. Decides if an alarm should be raised if F is larger than an alert value, A.\n",
    "    6. If an alarm is raised, show a text on the input image. For example **Change Detected!**.\n",
    "    7. Shows the input image, the backround image, the difference image, and the binary image. The binary image should be scaled by 255.\n",
    "    8. Updates the background image, $I_\\text{background}$, using: $$I_\\text{background} = \\alpha * I_\\text{background} + (1 - \\alpha) * I_\\text{new}$$\n",
    "    9. Stop the loop if the key `q` is pressed.\n",
    "\n",
    "You can start by trying with $\\alpha = 0.95$, $T = 10$, and $A = 15000$.\n",
    "\n",
    "### Exercise 3\n",
    "\n",
    "Implement and test the above program."
   ]
  },
  {
   "cell_type": "code",
   "execution_count": 5,
   "id": "89d06844",
   "metadata": {},
   "outputs": [
    {
     "name": "stdout",
     "output_type": "stream",
     "text": [
      "^C\n"
     ]
    }
   ],
   "source": [
    "#dos formas de llamarlo: \n",
    "#si pones 1 al final te sale en true todo los pixeles que cambian respecto frames\n",
    "!python Ex2b-ChangeDetectionInVideosMyExercise.py 0.95 10 15000 1\n",
    "\n",
    "#from Ex2bChangeDetectionInVideosMyExercise import capture_from_camera_and_show_images\n",
    "#capture_from_camera_and_show_images(0.95,10,15000,0) "
   ]
  },
  {
   "cell_type": "markdown",
   "id": "e51b1309",
   "metadata": {},
   "source": [
    "### Exercise 4\n",
    "\n",
    "Try to change $\\alpha$, $T$ and $A$. What effects do it have?"
   ]
  },
  {
   "cell_type": "code",
   "execution_count": 3,
   "id": "0cffc6e2",
   "metadata": {},
   "outputs": [],
   "source": [
    "!python Ex2b-ChangeDetectionInVideosMyExercise.py 0.5 10 15000 0"
   ]
  },
  {
   "cell_type": "code",
   "execution_count": null,
   "id": "a21a100d",
   "metadata": {},
   "outputs": [],
   "source": [
    "!python Ex2b-ChangeDetectionInVideosMyExercise.py 0.95 50 15000 0"
   ]
  },
  {
   "cell_type": "code",
   "execution_count": 11,
   "id": "0025c754",
   "metadata": {},
   "outputs": [
    {
     "name": "stdout",
     "output_type": "stream",
     "text": [
      "Starting image capture\n",
      "Opening connection to camera\n",
      "Starting camera loop\n",
      "Stopping image loop\n",
      "Figure(640x480)\n"
     ]
    }
   ],
   "source": [
    "\n",
    "!python Ex2b-ChangeDetectionInVideosMyExercise.py 0.95 10 25000 0"
   ]
  },
  {
   "cell_type": "markdown",
   "id": "d8b28713",
   "metadata": {},
   "source": [
    "### Efecto de Cambiar Parámetros\n",
    "\n",
    "1. **\\(\\alpha\\) (Peso de los frames actuales en suavizado)**  \n",
    "   - **Sube** (\\(\\alpha \\uparrow\\)): Adapta rápido a cambios, detecta cambios rápidos.  \n",
    "   - **Baja** (\\(\\alpha \\downarrow\\)): Adapta lento, mantiene el fondo más estable.  \n",
    "\n",
    "2. **\\(T\\) (Umbral para imagen binaria)**  \n",
    "   - **Sube** (\\(T \\uparrow\\)): Menos sensible, detecta solo cambios grandes.  \n",
    "   - **Baja** (\\(T \\downarrow\\)): Más sensible, detecta incluso pequeños cambios.  \n",
    "\n",
    "3. **\\(A\\) (Área mínima para alarma)**  \n",
    "   - **Sube** (\\(A \\uparrow\\)): Menos alarmas, requiere más movimiento.  \n",
    "   - **Baja** (\\(A \\downarrow\\)): Más alarmas, detecta incluso movimientos pequeños.  "
   ]
  },
  {
   "cell_type": "markdown",
   "id": "01304b64",
   "metadata": {},
   "source": [
    "### Exercise 5\n",
    "\n",
    "The images are displayed using the OpenCV function `imshow`. The display window has several ways of zooming in the displayed image. One function is to zoom x30 that shows the pixel values as numbers. Do that and notice the change of the values."
   ]
  },
  {
   "cell_type": "markdown",
   "id": "272ca277",
   "metadata": {},
   "source": [
    "### Exercise 6\n",
    "\n",
    "Try to use `putText` to write some important information on the image. For example the number of changed pixel, the average, minumum and maximum value in the difference image. These values can then be used to find even better values for $\\alpha$, $T$ and $A$.\n",
    "\n",
    "Also try to find out how to put a colored text on a color image. Here you need to know that OpenCV stores color as BGR instead of RGB."
   ]
  },
  {
   "cell_type": "code",
   "execution_count": null,
   "id": "29d1e599",
   "metadata": {},
   "outputs": [],
   "source": [
    "!python Ex2b-ChangeDetectionInVideosMyExercise.py 0.95 10 25000 1"
   ]
  }
 ],
 "metadata": {
  "kernelspec": {
   "display_name": "base",
   "language": "python",
   "name": "python3"
  },
  "language_info": {
   "codemirror_mode": {
    "name": "ipython",
    "version": 3
   },
   "file_extension": ".py",
   "mimetype": "text/x-python",
   "name": "python",
   "nbconvert_exporter": "python",
   "pygments_lexer": "ipython3",
   "version": "3.12.4"
  }
 },
 "nbformat": 4,
 "nbformat_minor": 5
}
