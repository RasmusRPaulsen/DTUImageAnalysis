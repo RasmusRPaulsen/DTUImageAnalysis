{
 "cells": [
  {
   "cell_type": "markdown",
   "id": "ddfb6c15",
   "metadata": {},
   "source": [
    "# Exercise 2 - Cameras and Lenses\n",
    "\n",
    "\n",
    "## Introduction\n",
    "\n",
    "The purpose of this exercise is to use Python to calculate camera and scene specific values.\n",
    "\n",
    "## Learning Objectives\n",
    "\n",
    "After completing this exercise, the student should be able to do the following:\n",
    "\n",
    "- Create a Python function that uses the thin lens equation to compute either the focal length (f), where the rays are focused (b) or an object distance (g) when two of the other measurements are given\n",
    "\n",
    "\n",
    "\n",
    "## Computing camera parameters\n",
    "\n",
    "### Exercise 1\n",
    "\n",
    "Explain how to calculate the angle $\\theta$ when $a$ and $b$ is given\n",
    "in the figure below. Calculate $\\theta$ (in degrees) when\n",
    "$a = 10$ and $b=3$ using the function `math.atan2()`. Remember to import `math` and find out what `atan2` does.\n",
    "\n",
    "![Angle in triangel](figures/ArcTangens.png)"
   ]
  },
  {
   "cell_type": "code",
   "execution_count": 2,
   "id": "6b7c151e",
   "metadata": {},
   "outputs": [
    {
     "name": "stdout",
     "output_type": "stream",
     "text": [
      "Angle (deg): 16.69924423399362\n"
     ]
    }
   ],
   "source": [
    "import math\n",
    "\n",
    "a, b = 10, 3\n",
    "# math atan te da el angulo directamente con el eje x , es decir $\\theta$ \n",
    "theta_rad = math.atan2(b, a)\n",
    "#luego lo pasa de radianes a gados\n",
    "theta_deg = theta_rad*180/math.pi\n",
    "\n",
    "print(f\"Angle (deg): {theta_deg}\")"
   ]
  },
  {
   "cell_type": "markdown",
   "id": "46454c10",
   "metadata": {},
   "source": [
    "### Exercise 2\n",
    "\n",
    "Create a Python function called `camera_b_distance`.\n",
    "\n",
    "The function should accept two arguments, a focal length f and an\n",
    "object distance g. It should return the distance from the lens to\n",
    "where the rays are focused (b) (where the CCD should be placed)\n",
    "(CCD; Charge-Coupled Device, which is a sensor used in cameras and optical systems to capture images. )\n",
    "The function should start like this:\n",
    "\n",
    "```python\n",
    "def camera_b_distance(f, g):\n",
    "    \"\"\"\n",
    "    camera_b_distance returns the distance (b) where the CCD should be placed\n",
    "    when the object distance (g) and the focal length (f) are given\n",
    "    :param f: Focal length\n",
    "                distancia entre la lente y el plano donde se forma la imagen ccd\n",
    "    :param g: Object distance\n",
    "                distancia entre la lente y el objeto\n",
    "\n",
    "    :return: b, the distance where the CCD should be placed\n",
    "                b es igual a la disstancia lente y sensor CCD pra donde la imagen esta bien enfocada.\n",
    "\n",
    "    \"\"\"\n",
    "```\n",
    "\n",
    "It should be based on Gauss' lens equation:\n",
    "$$\\frac{1}{g} + \\frac{1}{b} = \\frac{1}{f}$$\n",
    "\n",
    "You should decide if your function should calculate distances in mm or\n",
    "in meters, but remember to be consistent!\n",
    "\n",
    "Use your function to find out where the CCD should be placed when the\n",
    "focal length is 15 mm and the object distance is 0.1, 1, 5, and 15\n",
    "meters.\n",
    "\n",
    "What happens to the place of the CCD when the object distance is increased?"
   ]
  },
  {
   "cell_type": "code",
   "execution_count": 6,
   "id": "85dea294",
   "metadata": {},
   "outputs": [
    {
     "name": "stdout",
     "output_type": "stream",
     "text": [
      "-0.15000000000000002\n"
     ]
    }
   ],
   "source": [
    "#el mio \n",
    "def camera_b_distance(f, g):\n",
    "    b=1/((1/f)-(1/g))\n",
    "\n",
    "    return b\n",
    "\n",
    "print(camera_b_distance(0.3, 0.1))"
   ]
  },
  {
   "cell_type": "code",
   "execution_count": 10,
   "id": "267bd81f",
   "metadata": {},
   "outputs": [
    {
     "name": "stdout",
     "output_type": "stream",
     "text": [
      "-0.15000000000000002\n"
     ]
    }
   ],
   "source": [
    "# el de él\n",
    "def camera_b_distance1(f, g):\n",
    "    \"\"\"\n",
    "    camera_b_distance returns the distance (b) where the CCD should be placed\n",
    "    when the object distance (g) and the focal length (f) are given\n",
    "    :param f: Focal length\n",
    "    :param g: Object distance\n",
    "    :return: b, the distance where the CCD should be placed\n",
    "    \"\"\"\n",
    "    b = 1 / (f**(-1) - g**-(1))\n",
    "    return b\n",
    "print(camera_b_distance1(0.3, 0.1))"
   ]
  },
  {
   "cell_type": "code",
   "execution_count": 9,
   "id": "d14fa20b",
   "metadata": {},
   "outputs": [
    {
     "name": "stdout",
     "output_type": "stream",
     "text": [
      "Focal distance (m): 0.015 \t Object distance (m): 0.1 \t CCD place (m): 0.01764705882352941\n",
      "Focal distance (m): 0.015 \t Object distance (m): 1 \t CCD place (m): 0.015228426395939085\n",
      "Focal distance (m): 0.015 \t Object distance (m): 5 \t CCD place (m): 0.015045135406218655\n",
      "Focal distance (m): 0.015 \t Object distance (m): 15 \t CCD place (m): 0.015015015015015013\n"
     ]
    }
   ],
   "source": [
    "focal_distance = 15e-3 # meters\n",
    "object_distances = [0.1, 1, 5, 15] # meters\n",
    "\n",
    "for d in object_distances:\n",
    "    val = camera_b_distance(focal_distance, d)\n",
    "    print(f\"Focal distance (m): {focal_distance} \\t Object distance (m): {d} \\t CCD place (m): {val}\")"
   ]
  },
  {
   "cell_type": "markdown",
   "id": "490a881b",
   "metadata": {},
   "source": [
    "Si el objeto está más cerca del lente (\n",
    "𝑔\n",
    "g pequeño), la posición del CCD debe ajustarse para enfocar correctamente.\n",
    "Si el objeto está muy lejos (\n",
    "𝑔\n",
    "→\n",
    "∞\n",
    "g→∞), los rayos de luz que llegan al lente son prácticamente paralelos, y el plano de la imagen coincide con la distancia focal \n",
    "𝑓\n",
    "f.\n",
    "\n",
    "\n",
    "* Para objetos cercanos, el CCD debe colocarse más lejos del lente por eso b es mayor\n",
    "* Para objetos lejanos, el CCD se posiciona casi constante en la distancia focal."
   ]
  },
  {
   "cell_type": "markdown",
   "id": "eaba12d5",
   "metadata": {},
   "source": []
  },
  {
   "cell_type": "markdown",
   "id": "c7054205",
   "metadata": {},
   "source": [
    "## Camera exercise\n",
    "\n",
    "In the following exercise, you should remember to explain when\n",
    "something is in mm and when it is in meters. To convert between\n",
    "radians and degrees you can use:\n",
    "\n",
    "```\n",
    "angle_degrees = 180.0 / math.pi * angle_radians\n",
    "```\n",
    "\n",
    "### Exercise 3\n",
    "\n",
    "Thomas is 1.8 meters tall and standing 5 meters from a camera. The\n",
    "cameras focal length is 5 mm. The CCD in the camera can be seen in\n",
    "the figure below. It is a 1/2\" (inches) CCD chip and the\n",
    "image formed by the CCD is 640x480 pixels in a (x,y) coordinate system.\n",
    "\n",
    "![CCD chip](figures/CCDChip.png)\n",
    "\n",
    "It is easiest to start by drawing the scene. The scene should\n",
    "contain the optical axis, the optical center, the lens, the focal\n",
    "point, the CCD chip, and Thomas. Do it on paper or even better in a\n",
    "drawing program."
   ]
  },
  {
   "cell_type": "markdown",
   "id": "381aaedf",
   "metadata": {},
   "source": [
    "1. A focused image of Thomas is formed inside the camera. At which distance from the lens?"
   ]
  },
  {
   "cell_type": "code",
   "execution_count": 12,
   "id": "a5a0d79f",
   "metadata": {},
   "outputs": [
    {
     "name": "stdout",
     "output_type": "stream",
     "text": [
      "The image is formed at 0.005005005005005005 m from the lens\n"
     ]
    }
   ],
   "source": [
    "f = 5e-3 # focal lentght in m (distancai entre la lente y el snesor CCD)\n",
    "g = 5 # distance in m\n",
    "b = camera_b_distance(f, g)\n",
    "\n",
    "print(f\"The image is formed at {b} m from the lens\")"
   ]
  },
  {
   "cell_type": "markdown",
   "id": "0d8f185d",
   "metadata": {},
   "source": [
    "2. How tall (in mm) will Thomas be on the CCD-chip?\n",
    "\n",
    "relacion entre proporciones entre el objeto y su imagen proyectada (b).\n",
    "\n",
    "* b : altura de tomas en el CCD\n",
    "* B: altura real\n",
    "\n",
    "* g:Distancia de Thomas al lente.\n",
    "* G: G=f :la distancia entre el lente y el plano de imagen (el CCD).\n",
    "\n",
    "$$\\frac{b}{B} = \\frac{g}{G}$$\n"
   ]
  },
  {
   "cell_type": "code",
   "execution_count": 22,
   "id": "a9c152aa",
   "metadata": {},
   "outputs": [
    {
     "name": "stdout",
     "output_type": "stream",
     "text": [
      "Thomas is 0.01726272 mm tall on the CCD chip\n"
     ]
    }
   ],
   "source": [
    "G = 1.8 # m\n",
    "\n",
    "B = b*G/g\n",
    "print(f\"Thomas is {B*1e3} mm tall on the CCD chip\")"
   ]
  },
  {
   "cell_type": "markdown",
   "id": "bdcfc8c2",
   "metadata": {},
   "source": [
    "3. What is the size of a single pixel on the CCD chip? (in mm)?"
   ]
  },
  {
   "cell_type": "code",
   "execution_count": 18,
   "id": "557dbf46",
   "metadata": {},
   "outputs": [
    {
     "name": "stdout",
     "output_type": "stream",
     "text": [
      "The real world distance corresponding to a single pixel is 9.989999999999998 mm\n"
     ]
    }
   ],
   "source": [
    "# If you understand this as the real world size of an object in a pixel...\n",
    "B = 4.8e-3\n",
    "G_aux = g*B/b # Real world distance corresponding to 480 pixels\n",
    "\n",
    "px_size = G_aux/480\n",
    "print(f\"The real world distance corresponding to a single pixel is {px_size*1e3} mm\")"
   ]
  },
  {
   "cell_type": "code",
   "execution_count": 17,
   "id": "9b082c3b",
   "metadata": {},
   "outputs": [
    {
     "name": "stdout",
     "output_type": "stream",
     "text": [
      "The pixel size is:  0.01 x 0.01\n"
     ]
    }
   ],
   "source": [
    "# If you understand this as the \"physical\" size of a pixel on the CCD chip...\n",
    "\n",
    "# lo que mide el chip, entre la resolucion\n",
    "size_y = 4.8 / 480 # mm\n",
    "size_x = 6.4 / 640 # mm\n",
    "\n",
    "print(\"The pixel size is: \", size_x, \"x\", size_y)"
   ]
  },
  {
   "cell_type": "markdown",
   "id": "b4d4bba4",
   "metadata": {},
   "source": [
    "**Note**: Some people may understand this question as what is the size of a \"physical\" pixel on the CCD chip. The answer to that is 6.4/640 mm x 4.8/480 mm = 0.01 x 0.01 mm."
   ]
  },
  {
   "cell_type": "markdown",
   "id": "c0a1404e",
   "metadata": {},
   "source": [
    "4. How tall (in pixels) will Thomas be on the CCD-chip?"
   ]
  },
  {
   "cell_type": "code",
   "execution_count": 26,
   "id": "0440f1e5",
   "metadata": {},
   "outputs": [
    {
     "name": "stdout",
     "output_type": "stream",
     "text": [
      "Thomas will be 180.18 pixels tall\n"
     ]
    }
   ],
   "source": [
    "#no me gusta\n",
    "#lo que mide en ccd*totl pixeles y/ total mide y del ccd\n",
    "h = 1.8018*480 /4.8 \n",
    "\n",
    "print(f\"Thomas will be {h} pixels tall\")"
   ]
  },
  {
   "cell_type": "code",
   "execution_count": null,
   "id": "42d8fb36",
   "metadata": {},
   "outputs": [
    {
     "name": "stdout",
     "output_type": "stream",
     "text": [
      "Thomas will be 180.1801801801802 pixels tall\n"
     ]
    }
   ],
   "source": [
    "#no me gusta\n",
    "# You can also do it like this (i.e., like a proportion)\n",
    "B = 1.8018018018018018e-3 # Exercise 3.2\n",
    "h = 480*B/4.8e-3\n",
    "print(f\"Thomas will be {h} pixels tall\")"
   ]
  },
  {
   "cell_type": "markdown",
   "id": "4ed5c246",
   "metadata": {},
   "source": []
  },
  {
   "cell_type": "markdown",
   "id": "5f1e932f",
   "metadata": {},
   "source": [
    "5. What is the horizontal field-of-view (in degrees)?"
   ]
  },
  {
   "cell_type": "code",
   "execution_count": 23,
   "id": "34f28240",
   "metadata": {},
   "outputs": [
    {
     "name": "stdout",
     "output_type": "stream",
     "text": [
      "Horizontal FOV is 65.1864430737312 deg\n"
     ]
    }
   ],
   "source": [
    "FOV_x = 2*math.atan2(3.2e-3, b)*180/math.pi\n",
    "print(f\"Horizontal FOV is {FOV_x} deg\")"
   ]
  },
  {
   "cell_type": "markdown",
   "id": "b6989328",
   "metadata": {},
   "source": [
    "6. What is the vertical field-of-view (in degrees)?"
   ]
  },
  {
   "cell_type": "code",
   "execution_count": 24,
   "id": "9bc904c9",
   "metadata": {},
   "outputs": [
    {
     "name": "stdout",
     "output_type": "stream",
     "text": [
      "Vertical FOV is 51.23729915893342 deg\n"
     ]
    }
   ],
   "source": [
    "FOV_y = 2*math.atan2(2.4e-3, b)*180/math.pi\n",
    "print(f\"Vertical FOV is {FOV_y} deg\")"
   ]
  }
 ],
 "metadata": {
  "kernelspec": {
   "display_name": "Python 3",
   "language": "python",
   "name": "python3"
  },
  "language_info": {
   "codemirror_mode": {
    "name": "ipython",
    "version": 3
   },
   "file_extension": ".py",
   "mimetype": "text/x-python",
   "name": "python",
   "nbconvert_exporter": "python",
   "pygments_lexer": "ipython3",
   "version": "3.12.4"
  }
 },
 "nbformat": 4,
 "nbformat_minor": 5
}
